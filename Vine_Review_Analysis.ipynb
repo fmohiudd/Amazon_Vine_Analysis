{
 "cells": [
  {
   "cell_type": "code",
   "execution_count": 1,
   "id": "df9b7c40",
   "metadata": {},
   "outputs": [],
   "source": [
    "import pandas as pd\n",
    "import numpy as np\n",
    "\n",
    "%matplotlib inline\n",
    "from matplotlib import style\n",
    "import matplotlib.pyplot as plt"
   ]
  },
  {
   "cell_type": "code",
   "execution_count": 2,
   "id": "b160c679",
   "metadata": {},
   "outputs": [],
   "source": [
    "# Read the vine_table data\n",
    "vine_df = pd.read_csv('vine_table.csv', low_memory = False)"
   ]
  },
  {
   "cell_type": "code",
   "execution_count": 3,
   "id": "8b2746b6",
   "metadata": {},
   "outputs": [
    {
     "data": {
      "text/html": [
       "<div>\n",
       "<style scoped>\n",
       "    .dataframe tbody tr th:only-of-type {\n",
       "        vertical-align: middle;\n",
       "    }\n",
       "\n",
       "    .dataframe tbody tr th {\n",
       "        vertical-align: top;\n",
       "    }\n",
       "\n",
       "    .dataframe thead th {\n",
       "        text-align: right;\n",
       "    }\n",
       "</style>\n",
       "<table border=\"1\" class=\"dataframe\">\n",
       "  <thead>\n",
       "    <tr style=\"text-align: right;\">\n",
       "      <th></th>\n",
       "      <th>review_id</th>\n",
       "      <th>star_rating</th>\n",
       "      <th>helpful_votes</th>\n",
       "      <th>total_votes</th>\n",
       "      <th>vine</th>\n",
       "      <th>verified_purchase</th>\n",
       "    </tr>\n",
       "  </thead>\n",
       "  <tbody>\n",
       "    <tr>\n",
       "      <th>0</th>\n",
       "      <td>R3P2HIOQCIN5ZU</td>\n",
       "      <td>1.0</td>\n",
       "      <td>0.0</td>\n",
       "      <td>0.0</td>\n",
       "      <td>N</td>\n",
       "      <td>Y</td>\n",
       "    </tr>\n",
       "    <tr>\n",
       "      <th>1</th>\n",
       "      <td>R12VVR0WH5Q24V</td>\n",
       "      <td>5.0</td>\n",
       "      <td>0.0</td>\n",
       "      <td>0.0</td>\n",
       "      <td>N</td>\n",
       "      <td>Y</td>\n",
       "    </tr>\n",
       "    <tr>\n",
       "      <th>2</th>\n",
       "      <td>RNCCKB6TV5EEF</td>\n",
       "      <td>4.0</td>\n",
       "      <td>0.0</td>\n",
       "      <td>0.0</td>\n",
       "      <td>N</td>\n",
       "      <td>Y</td>\n",
       "    </tr>\n",
       "    <tr>\n",
       "      <th>3</th>\n",
       "      <td>R2NZXYIVCGB13W</td>\n",
       "      <td>5.0</td>\n",
       "      <td>0.0</td>\n",
       "      <td>6.0</td>\n",
       "      <td>N</td>\n",
       "      <td>Y</td>\n",
       "    </tr>\n",
       "    <tr>\n",
       "      <th>4</th>\n",
       "      <td>R2EQ1TG9IT3OEQ</td>\n",
       "      <td>3.0</td>\n",
       "      <td>0.0</td>\n",
       "      <td>0.0</td>\n",
       "      <td>N</td>\n",
       "      <td>Y</td>\n",
       "    </tr>\n",
       "    <tr>\n",
       "      <th>5</th>\n",
       "      <td>R1WXA9JSC2H1U1</td>\n",
       "      <td>5.0</td>\n",
       "      <td>1.0</td>\n",
       "      <td>1.0</td>\n",
       "      <td>N</td>\n",
       "      <td>Y</td>\n",
       "    </tr>\n",
       "    <tr>\n",
       "      <th>6</th>\n",
       "      <td>R12ENYLFGGNWRV</td>\n",
       "      <td>5.0</td>\n",
       "      <td>1.0</td>\n",
       "      <td>1.0</td>\n",
       "      <td>N</td>\n",
       "      <td>Y</td>\n",
       "    </tr>\n",
       "    <tr>\n",
       "      <th>7</th>\n",
       "      <td>R2R07E5PNXEUO5</td>\n",
       "      <td>4.0</td>\n",
       "      <td>0.0</td>\n",
       "      <td>0.0</td>\n",
       "      <td>N</td>\n",
       "      <td>Y</td>\n",
       "    </tr>\n",
       "    <tr>\n",
       "      <th>8</th>\n",
       "      <td>R27BA52AKWMWN3</td>\n",
       "      <td>5.0</td>\n",
       "      <td>0.0</td>\n",
       "      <td>0.0</td>\n",
       "      <td>N</td>\n",
       "      <td>Y</td>\n",
       "    </tr>\n",
       "    <tr>\n",
       "      <th>9</th>\n",
       "      <td>RLF8DOID2KD5O</td>\n",
       "      <td>3.0</td>\n",
       "      <td>0.0</td>\n",
       "      <td>0.0</td>\n",
       "      <td>N</td>\n",
       "      <td>Y</td>\n",
       "    </tr>\n",
       "  </tbody>\n",
       "</table>\n",
       "</div>"
      ],
      "text/plain": [
       "        review_id  star_rating  helpful_votes  total_votes vine  \\\n",
       "0  R3P2HIOQCIN5ZU          1.0            0.0          0.0    N   \n",
       "1  R12VVR0WH5Q24V          5.0            0.0          0.0    N   \n",
       "2   RNCCKB6TV5EEF          4.0            0.0          0.0    N   \n",
       "3  R2NZXYIVCGB13W          5.0            0.0          6.0    N   \n",
       "4  R2EQ1TG9IT3OEQ          3.0            0.0          0.0    N   \n",
       "5  R1WXA9JSC2H1U1          5.0            1.0          1.0    N   \n",
       "6  R12ENYLFGGNWRV          5.0            1.0          1.0    N   \n",
       "7  R2R07E5PNXEUO5          4.0            0.0          0.0    N   \n",
       "8  R27BA52AKWMWN3          5.0            0.0          0.0    N   \n",
       "9   RLF8DOID2KD5O          3.0            0.0          0.0    N   \n",
       "\n",
       "  verified_purchase  \n",
       "0                 Y  \n",
       "1                 Y  \n",
       "2                 Y  \n",
       "3                 Y  \n",
       "4                 Y  \n",
       "5                 Y  \n",
       "6                 Y  \n",
       "7                 Y  \n",
       "8                 Y  \n",
       "9                 Y  "
      ]
     },
     "execution_count": 3,
     "metadata": {},
     "output_type": "execute_result"
    }
   ],
   "source": [
    "vine_df.head(10)"
   ]
  },
  {
   "cell_type": "code",
   "execution_count": 4,
   "id": "8f6dcd1f",
   "metadata": {
    "scrolled": true
   },
   "outputs": [
    {
     "data": {
      "text/html": [
       "<div>\n",
       "<style scoped>\n",
       "    .dataframe tbody tr th:only-of-type {\n",
       "        vertical-align: middle;\n",
       "    }\n",
       "\n",
       "    .dataframe tbody tr th {\n",
       "        vertical-align: top;\n",
       "    }\n",
       "\n",
       "    .dataframe thead th {\n",
       "        text-align: right;\n",
       "    }\n",
       "</style>\n",
       "<table border=\"1\" class=\"dataframe\">\n",
       "  <thead>\n",
       "    <tr style=\"text-align: right;\">\n",
       "      <th></th>\n",
       "      <th>review_id</th>\n",
       "      <th>star_rating</th>\n",
       "      <th>helpful_votes</th>\n",
       "      <th>total_votes</th>\n",
       "      <th>vine</th>\n",
       "      <th>verified_purchase</th>\n",
       "    </tr>\n",
       "  </thead>\n",
       "  <tbody>\n",
       "    <tr>\n",
       "      <th>188</th>\n",
       "      <td>ROP6ITXO8K5V2</td>\n",
       "      <td>5.0</td>\n",
       "      <td>23.0</td>\n",
       "      <td>27.0</td>\n",
       "      <td>N</td>\n",
       "      <td>Y</td>\n",
       "    </tr>\n",
       "    <tr>\n",
       "      <th>406</th>\n",
       "      <td>R37F42INKX7L9K</td>\n",
       "      <td>5.0</td>\n",
       "      <td>45.0</td>\n",
       "      <td>49.0</td>\n",
       "      <td>N</td>\n",
       "      <td>Y</td>\n",
       "    </tr>\n",
       "    <tr>\n",
       "      <th>667</th>\n",
       "      <td>R3ND1LVU7AXCVF</td>\n",
       "      <td>1.0</td>\n",
       "      <td>21.0</td>\n",
       "      <td>21.0</td>\n",
       "      <td>N</td>\n",
       "      <td>Y</td>\n",
       "    </tr>\n",
       "    <tr>\n",
       "      <th>881</th>\n",
       "      <td>R2EHKYNEP8WVSR</td>\n",
       "      <td>5.0</td>\n",
       "      <td>25.0</td>\n",
       "      <td>25.0</td>\n",
       "      <td>N</td>\n",
       "      <td>Y</td>\n",
       "    </tr>\n",
       "    <tr>\n",
       "      <th>884</th>\n",
       "      <td>RXOS7BHID0UHL</td>\n",
       "      <td>5.0</td>\n",
       "      <td>16.0</td>\n",
       "      <td>27.0</td>\n",
       "      <td>N</td>\n",
       "      <td>N</td>\n",
       "    </tr>\n",
       "  </tbody>\n",
       "</table>\n",
       "</div>"
      ],
      "text/plain": [
       "          review_id  star_rating  helpful_votes  total_votes vine  \\\n",
       "188   ROP6ITXO8K5V2          5.0           23.0         27.0    N   \n",
       "406  R37F42INKX7L9K          5.0           45.0         49.0    N   \n",
       "667  R3ND1LVU7AXCVF          1.0           21.0         21.0    N   \n",
       "881  R2EHKYNEP8WVSR          5.0           25.0         25.0    N   \n",
       "884   RXOS7BHID0UHL          5.0           16.0         27.0    N   \n",
       "\n",
       "    verified_purchase  \n",
       "188                 Y  \n",
       "406                 Y  \n",
       "667                 Y  \n",
       "881                 Y  \n",
       "884                 N  "
      ]
     },
     "execution_count": 4,
     "metadata": {},
     "output_type": "execute_result"
    }
   ],
   "source": [
    "# Select data with total votes >=20\n",
    "vine_20_df = vine_df.loc[(vine_df[\"total_votes\"] >= 20)]\n",
    "vine_20_df.head()"
   ]
  },
  {
   "cell_type": "markdown",
   "id": "d357857b",
   "metadata": {},
   "source": [
    "#### (Helpful Votes)/(Total Votes) greater than 50%"
   ]
  },
  {
   "cell_type": "code",
   "execution_count": 5,
   "id": "2b1243fe",
   "metadata": {},
   "outputs": [
    {
     "data": {
      "text/html": [
       "<div>\n",
       "<style scoped>\n",
       "    .dataframe tbody tr th:only-of-type {\n",
       "        vertical-align: middle;\n",
       "    }\n",
       "\n",
       "    .dataframe tbody tr th {\n",
       "        vertical-align: top;\n",
       "    }\n",
       "\n",
       "    .dataframe thead th {\n",
       "        text-align: right;\n",
       "    }\n",
       "</style>\n",
       "<table border=\"1\" class=\"dataframe\">\n",
       "  <thead>\n",
       "    <tr style=\"text-align: right;\">\n",
       "      <th></th>\n",
       "      <th>review_id</th>\n",
       "      <th>star_rating</th>\n",
       "      <th>helpful_votes</th>\n",
       "      <th>total_votes</th>\n",
       "      <th>vine</th>\n",
       "      <th>verified_purchase</th>\n",
       "    </tr>\n",
       "  </thead>\n",
       "  <tbody>\n",
       "    <tr>\n",
       "      <th>188</th>\n",
       "      <td>ROP6ITXO8K5V2</td>\n",
       "      <td>5.0</td>\n",
       "      <td>23.0</td>\n",
       "      <td>27.0</td>\n",
       "      <td>N</td>\n",
       "      <td>Y</td>\n",
       "    </tr>\n",
       "    <tr>\n",
       "      <th>406</th>\n",
       "      <td>R37F42INKX7L9K</td>\n",
       "      <td>5.0</td>\n",
       "      <td>45.0</td>\n",
       "      <td>49.0</td>\n",
       "      <td>N</td>\n",
       "      <td>Y</td>\n",
       "    </tr>\n",
       "    <tr>\n",
       "      <th>667</th>\n",
       "      <td>R3ND1LVU7AXCVF</td>\n",
       "      <td>1.0</td>\n",
       "      <td>21.0</td>\n",
       "      <td>21.0</td>\n",
       "      <td>N</td>\n",
       "      <td>Y</td>\n",
       "    </tr>\n",
       "    <tr>\n",
       "      <th>881</th>\n",
       "      <td>R2EHKYNEP8WVSR</td>\n",
       "      <td>5.0</td>\n",
       "      <td>25.0</td>\n",
       "      <td>25.0</td>\n",
       "      <td>N</td>\n",
       "      <td>Y</td>\n",
       "    </tr>\n",
       "    <tr>\n",
       "      <th>884</th>\n",
       "      <td>RXOS7BHID0UHL</td>\n",
       "      <td>5.0</td>\n",
       "      <td>16.0</td>\n",
       "      <td>27.0</td>\n",
       "      <td>N</td>\n",
       "      <td>N</td>\n",
       "    </tr>\n",
       "  </tbody>\n",
       "</table>\n",
       "</div>"
      ],
      "text/plain": [
       "          review_id  star_rating  helpful_votes  total_votes vine  \\\n",
       "188   ROP6ITXO8K5V2          5.0           23.0         27.0    N   \n",
       "406  R37F42INKX7L9K          5.0           45.0         49.0    N   \n",
       "667  R3ND1LVU7AXCVF          1.0           21.0         21.0    N   \n",
       "881  R2EHKYNEP8WVSR          5.0           25.0         25.0    N   \n",
       "884   RXOS7BHID0UHL          5.0           16.0         27.0    N   \n",
       "\n",
       "    verified_purchase  \n",
       "188                 Y  \n",
       "406                 Y  \n",
       "667                 Y  \n",
       "881                 Y  \n",
       "884                 N  "
      ]
     },
     "execution_count": 5,
     "metadata": {},
     "output_type": "execute_result"
    }
   ],
   "source": [
    "vine_good_df = vine_20_df.loc[vine_20_df[\"helpful_votes\"]/vine_20_df[\"total_votes\"] >= 0.50]\n",
    "vine_good_df.head()"
   ]
  },
  {
   "cell_type": "markdown",
   "id": "6865dc79",
   "metadata": {},
   "source": [
    "#### Reviews written by people in the Vine program (paid)"
   ]
  },
  {
   "cell_type": "code",
   "execution_count": 6,
   "id": "1b18261c",
   "metadata": {},
   "outputs": [
    {
     "data": {
      "text/html": [
       "<div>\n",
       "<style scoped>\n",
       "    .dataframe tbody tr th:only-of-type {\n",
       "        vertical-align: middle;\n",
       "    }\n",
       "\n",
       "    .dataframe tbody tr th {\n",
       "        vertical-align: top;\n",
       "    }\n",
       "\n",
       "    .dataframe thead th {\n",
       "        text-align: right;\n",
       "    }\n",
       "</style>\n",
       "<table border=\"1\" class=\"dataframe\">\n",
       "  <thead>\n",
       "    <tr style=\"text-align: right;\">\n",
       "      <th></th>\n",
       "      <th>review_id</th>\n",
       "      <th>star_rating</th>\n",
       "      <th>helpful_votes</th>\n",
       "      <th>total_votes</th>\n",
       "      <th>vine</th>\n",
       "      <th>verified_purchase</th>\n",
       "    </tr>\n",
       "  </thead>\n",
       "  <tbody>\n",
       "    <tr>\n",
       "      <th>984</th>\n",
       "      <td>R9I5FOLKU99RY</td>\n",
       "      <td>5.0</td>\n",
       "      <td>19.0</td>\n",
       "      <td>20.0</td>\n",
       "      <td>Y</td>\n",
       "      <td>N</td>\n",
       "    </tr>\n",
       "    <tr>\n",
       "      <th>1174</th>\n",
       "      <td>R3ED60RC69CCQ6</td>\n",
       "      <td>5.0</td>\n",
       "      <td>22.0</td>\n",
       "      <td>23.0</td>\n",
       "      <td>Y</td>\n",
       "      <td>N</td>\n",
       "    </tr>\n",
       "    <tr>\n",
       "      <th>1962</th>\n",
       "      <td>R2JM687C525WR9</td>\n",
       "      <td>3.0</td>\n",
       "      <td>33.0</td>\n",
       "      <td>33.0</td>\n",
       "      <td>Y</td>\n",
       "      <td>N</td>\n",
       "    </tr>\n",
       "    <tr>\n",
       "      <th>15133</th>\n",
       "      <td>RUB4AUWGHG16G</td>\n",
       "      <td>4.0</td>\n",
       "      <td>25.0</td>\n",
       "      <td>27.0</td>\n",
       "      <td>Y</td>\n",
       "      <td>N</td>\n",
       "    </tr>\n",
       "    <tr>\n",
       "      <th>41239</th>\n",
       "      <td>R1S3IDYJUA6V2G</td>\n",
       "      <td>5.0</td>\n",
       "      <td>28.0</td>\n",
       "      <td>32.0</td>\n",
       "      <td>Y</td>\n",
       "      <td>N</td>\n",
       "    </tr>\n",
       "  </tbody>\n",
       "</table>\n",
       "</div>"
      ],
      "text/plain": [
       "            review_id  star_rating  helpful_votes  total_votes vine  \\\n",
       "984     R9I5FOLKU99RY          5.0           19.0         20.0    Y   \n",
       "1174   R3ED60RC69CCQ6          5.0           22.0         23.0    Y   \n",
       "1962   R2JM687C525WR9          3.0           33.0         33.0    Y   \n",
       "15133   RUB4AUWGHG16G          4.0           25.0         27.0    Y   \n",
       "41239  R1S3IDYJUA6V2G          5.0           28.0         32.0    Y   \n",
       "\n",
       "      verified_purchase  \n",
       "984                   N  \n",
       "1174                  N  \n",
       "1962                  N  \n",
       "15133                 N  \n",
       "41239                 N  "
      ]
     },
     "execution_count": 6,
     "metadata": {},
     "output_type": "execute_result"
    }
   ],
   "source": [
    "vine_paid_df = vine_good_df.loc[(vine_good_df[\"vine\"] == 'Y')]\n",
    "vine_paid_df.head()"
   ]
  },
  {
   "cell_type": "markdown",
   "id": "5771fcc7",
   "metadata": {},
   "source": [
    "#### Reviews written by people not in the Vine program (unpaid)"
   ]
  },
  {
   "cell_type": "code",
   "execution_count": 7,
   "id": "f3849d4b",
   "metadata": {},
   "outputs": [
    {
     "data": {
      "text/html": [
       "<div>\n",
       "<style scoped>\n",
       "    .dataframe tbody tr th:only-of-type {\n",
       "        vertical-align: middle;\n",
       "    }\n",
       "\n",
       "    .dataframe tbody tr th {\n",
       "        vertical-align: top;\n",
       "    }\n",
       "\n",
       "    .dataframe thead th {\n",
       "        text-align: right;\n",
       "    }\n",
       "</style>\n",
       "<table border=\"1\" class=\"dataframe\">\n",
       "  <thead>\n",
       "    <tr style=\"text-align: right;\">\n",
       "      <th></th>\n",
       "      <th>review_id</th>\n",
       "      <th>star_rating</th>\n",
       "      <th>helpful_votes</th>\n",
       "      <th>total_votes</th>\n",
       "      <th>vine</th>\n",
       "      <th>verified_purchase</th>\n",
       "    </tr>\n",
       "  </thead>\n",
       "  <tbody>\n",
       "    <tr>\n",
       "      <th>188</th>\n",
       "      <td>ROP6ITXO8K5V2</td>\n",
       "      <td>5.0</td>\n",
       "      <td>23.0</td>\n",
       "      <td>27.0</td>\n",
       "      <td>N</td>\n",
       "      <td>Y</td>\n",
       "    </tr>\n",
       "    <tr>\n",
       "      <th>406</th>\n",
       "      <td>R37F42INKX7L9K</td>\n",
       "      <td>5.0</td>\n",
       "      <td>45.0</td>\n",
       "      <td>49.0</td>\n",
       "      <td>N</td>\n",
       "      <td>Y</td>\n",
       "    </tr>\n",
       "    <tr>\n",
       "      <th>667</th>\n",
       "      <td>R3ND1LVU7AXCVF</td>\n",
       "      <td>1.0</td>\n",
       "      <td>21.0</td>\n",
       "      <td>21.0</td>\n",
       "      <td>N</td>\n",
       "      <td>Y</td>\n",
       "    </tr>\n",
       "    <tr>\n",
       "      <th>881</th>\n",
       "      <td>R2EHKYNEP8WVSR</td>\n",
       "      <td>5.0</td>\n",
       "      <td>25.0</td>\n",
       "      <td>25.0</td>\n",
       "      <td>N</td>\n",
       "      <td>Y</td>\n",
       "    </tr>\n",
       "    <tr>\n",
       "      <th>884</th>\n",
       "      <td>RXOS7BHID0UHL</td>\n",
       "      <td>5.0</td>\n",
       "      <td>16.0</td>\n",
       "      <td>27.0</td>\n",
       "      <td>N</td>\n",
       "      <td>N</td>\n",
       "    </tr>\n",
       "  </tbody>\n",
       "</table>\n",
       "</div>"
      ],
      "text/plain": [
       "          review_id  star_rating  helpful_votes  total_votes vine  \\\n",
       "188   ROP6ITXO8K5V2          5.0           23.0         27.0    N   \n",
       "406  R37F42INKX7L9K          5.0           45.0         49.0    N   \n",
       "667  R3ND1LVU7AXCVF          1.0           21.0         21.0    N   \n",
       "881  R2EHKYNEP8WVSR          5.0           25.0         25.0    N   \n",
       "884   RXOS7BHID0UHL          5.0           16.0         27.0    N   \n",
       "\n",
       "    verified_purchase  \n",
       "188                 Y  \n",
       "406                 Y  \n",
       "667                 Y  \n",
       "881                 Y  \n",
       "884                 N  "
      ]
     },
     "execution_count": 7,
     "metadata": {},
     "output_type": "execute_result"
    }
   ],
   "source": [
    "vine_notpaid_df = vine_good_df.loc[(vine_good_df[\"vine\"] == 'N')]\n",
    "vine_notpaid_df.head()"
   ]
  },
  {
   "cell_type": "markdown",
   "id": "fe9c639d",
   "metadata": {},
   "source": [
    "#### Total number of reviews"
   ]
  },
  {
   "cell_type": "code",
   "execution_count": 8,
   "id": "8c03b25a",
   "metadata": {},
   "outputs": [
    {
     "data": {
      "text/plain": [
       "9231159"
      ]
     },
     "execution_count": 8,
     "metadata": {},
     "output_type": "execute_result"
    }
   ],
   "source": [
    "total_rev = vine_df.count().star_rating\n",
    "total_rev"
   ]
  },
  {
   "cell_type": "code",
   "execution_count": 9,
   "id": "4ef7ceaf",
   "metadata": {},
   "outputs": [
    {
     "data": {
      "text/plain": [
       "9231159"
      ]
     },
     "execution_count": 9,
     "metadata": {},
     "output_type": "execute_result"
    }
   ],
   "source": [
    "# Just checking count()\n",
    "total_rev = vine_df['star_rating'].count()\n",
    "total_rev"
   ]
  },
  {
   "cell_type": "markdown",
   "id": "ce5a6681",
   "metadata": {},
   "source": [
    "#### Total number of 5 star reviews"
   ]
  },
  {
   "cell_type": "code",
   "execution_count": 10,
   "id": "4c4e0a12",
   "metadata": {},
   "outputs": [
    {
     "data": {
      "text/plain": [
       "5716852"
      ]
     },
     "execution_count": 10,
     "metadata": {},
     "output_type": "execute_result"
    }
   ],
   "source": [
    "# Five star ratings dataFrame\n",
    "five_star_df = vine_df.loc[(vine_df[\"star_rating\"] == 5)]\n",
    "\n",
    "# Counts of total five start ratings\n",
    "five_star= five_star_df.count().star_rating\n",
    "five_star"
   ]
  },
  {
   "cell_type": "markdown",
   "id": "8b33377d",
   "metadata": {},
   "source": [
    "#### % of 5 star reviews"
   ]
  },
  {
   "cell_type": "code",
   "execution_count": 11,
   "id": "bf16b60d",
   "metadata": {},
   "outputs": [
    {
     "data": {
      "text/plain": [
       "61.92994834126462"
      ]
     },
     "execution_count": 11,
     "metadata": {},
     "output_type": "execute_result"
    }
   ],
   "source": [
    "five_star_percent = five_star/total_rev * 100\n",
    "five_star_percent"
   ]
  },
  {
   "cell_type": "markdown",
   "id": "1b5c0031",
   "metadata": {},
   "source": [
    "#### % of 5 star reviews by the customers in Vine program (paid people)"
   ]
  },
  {
   "cell_type": "code",
   "execution_count": 12,
   "id": "cfff2156",
   "metadata": {},
   "outputs": [
    {
     "data": {
      "text/plain": [
       "17533"
      ]
     },
     "execution_count": 12,
     "metadata": {},
     "output_type": "execute_result"
    }
   ],
   "source": [
    "# Paid count reviews\n",
    "vine_Y_count = five_star_df.loc[(five_star_df[\"vine\"] == 'Y')].count().star_rating\n",
    "vine_Y_count"
   ]
  },
  {
   "cell_type": "code",
   "execution_count": 13,
   "id": "93cc417d",
   "metadata": {},
   "outputs": [
    {
     "data": {
      "text/plain": [
       "0.3066897656262572"
      ]
     },
     "execution_count": 13,
     "metadata": {},
     "output_type": "execute_result"
    }
   ],
   "source": [
    "# % of 5 star reviews by Vine program (paid) customer\n",
    "vine_Y_percent = vine_Y_count/five_star * 100\n",
    "vine_Y_percent"
   ]
  },
  {
   "cell_type": "markdown",
   "id": "a509598b",
   "metadata": {},
   "source": [
    "#### % of 5 star reviews by customers NOT in Vine program (unpaid)"
   ]
  },
  {
   "cell_type": "code",
   "execution_count": 14,
   "id": "13f085cb",
   "metadata": {},
   "outputs": [
    {
     "data": {
      "text/plain": [
       "5699319"
      ]
     },
     "execution_count": 14,
     "metadata": {},
     "output_type": "execute_result"
    }
   ],
   "source": [
    "vine_N_count = five_star_df.loc[(five_star_df['vine'] == 'N')].count().star_rating\n",
    "vine_N_count"
   ]
  },
  {
   "cell_type": "code",
   "execution_count": 15,
   "id": "0585ff4d",
   "metadata": {},
   "outputs": [
    {
     "data": {
      "text/plain": [
       "99.69331023437374"
      ]
     },
     "execution_count": 15,
     "metadata": {},
     "output_type": "execute_result"
    }
   ],
   "source": [
    "# % of 5 star reviews by customers NOT in the Vine program\n",
    "vine_N_percent = vine_N_count/five_star * 100\n",
    "vine_N_percent"
   ]
  },
  {
   "cell_type": "markdown",
   "id": "996f5af5",
   "metadata": {},
   "source": [
    "### Create a histogram (barplot) showing ratings given by paid and unpaid customers."
   ]
  },
  {
   "cell_type": "code",
   "execution_count": 16,
   "id": "9243584d",
   "metadata": {
    "scrolled": true
   },
   "outputs": [
    {
     "data": {
      "text/plain": [
       "array([[<AxesSubplot:title={'center':'star_rating'}>]], dtype=object)"
      ]
     },
     "execution_count": 16,
     "metadata": {},
     "output_type": "execute_result"
    },
    {
     "data": {
      "image/png": "[encoded data removed]",
      "text/plain": [
       "<Figure size 432x288 with 1 Axes>"
      ]
     },
     "metadata": {
      "needs_background": "light"
     },
     "output_type": "display_data"
    }
   ],
   "source": [
    "# plot vine member ratings histogram\n",
    "vine_paid_df.hist(column='star_rating')"
   ]
  },
  {
   "cell_type": "markdown",
   "id": "f29c254b",
   "metadata": {},
   "source": [
    "### PLOT: Paid Reviews Normalized to Relative Percentage"
   ]
  },
  {
   "cell_type": "code",
   "execution_count": 17,
   "id": "28328478",
   "metadata": {},
   "outputs": [
    {
     "data": {
      "image/png": "[encoded data removed]",
      "text/plain": [
       "<Figure size 432x288 with 1 Axes>"
      ]
     },
     "metadata": {
      "needs_background": "light"
     },
     "output_type": "display_data"
    }
   ],
   "source": [
    "# Counts normalized in the y-axis\n",
    "paid_v = pd.cut(vine_paid_df['star_rating'], bins=[0,1,2,3,4,5])\n",
    "paid_norm = paid_v.value_counts(sort=False, normalize=True).mul(100)\n",
    "\n",
    "ax = paid_norm.plot.bar(rot=0, color=\"green\", figsize=(6,4))\n",
    "plt.xlabel(\"Star Rating\")\n",
    "plt.ylabel(\"Normalized Counts\")\n",
    "plt.legend(loc=\"upper center\")\n",
    "plt.title(\"Number of Star Reviews made by paid Vine members\")\n",
    "plt.grid(True)\n",
    "# Save figure\n",
    "plt.savefig(\"images/paid_count_plot.png\")\n",
    "\n",
    "plt.show()"
   ]
  },
  {
   "cell_type": "markdown",
   "id": "8efa76c3",
   "metadata": {},
   "source": [
    "### PLOT: Unpaid Reviews normalized to relative percentages"
   ]
  },
  {
   "cell_type": "code",
   "execution_count": 18,
   "id": "18e5c475",
   "metadata": {},
   "outputs": [
    {
     "data": {
      "image/png": "[encoded data removed]",
      "text/plain": [
       "<Figure size 432x288 with 1 Axes>"
      ]
     },
     "metadata": {
      "needs_background": "light"
     },
     "output_type": "display_data"
    }
   ],
   "source": [
    "# Counts normalized in the y-axis\n",
    "notpaid_v = pd.cut(vine_notpaid_df['star_rating'], bins=[0,1,2,3,4,5])\n",
    "notpaid_norm = notpaid_v.value_counts(sort=False, normalize=True).mul(100)\n",
    "\n",
    "ax = notpaid_norm.plot.bar(rot=0, color=\"purple\", figsize=(6,4))\n",
    "plt.xlabel(\"Star Rating\")\n",
    "plt.ylabel(\"Normalized Counts\")\n",
    "plt.legend(loc=\"upper center\")\n",
    "plt.title(\"Number of Star Reviews made by unpaid Vine members\")\n",
    "plt.grid(True)\n",
    "# Save figure\n",
    "plt.savefig(\"images/unpaid_count_plot.png\")\n",
    "\n",
    "plt.show()"
   ]
  }
 ],
 "metadata": {
  "kernelspec": {
   "display_name": "PythonData",
   "language": "python",
   "name": "pythondata"
  },
  "language_info": {
   "codemirror_mode": {
    "name": "ipython",
    "version": 3
   },
   "file_extension": ".py",
   "mimetype": "text/x-python",
   "name": "python",
   "nbconvert_exporter": "python",
   "pygments_lexer": "ipython3",
   "version": "3.7.10"
  }
 },
 "nbformat": 4,
 "nbformat_minor": 5
}
